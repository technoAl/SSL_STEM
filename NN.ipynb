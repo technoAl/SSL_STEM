{
 "cells": [
  {
   "cell_type": "code",
   "execution_count": 1,
   "metadata": {},
   "outputs": [],
   "source": [
    "import numpy as np\n",
    "import pandas as pd\n",
    "import csv\n",
    "import matplotlib.pyplot as plt\n",
    "\n",
    "import tensorflow as tf\n",
    "\n",
    "from tensorflow import feature_column\n",
    "from tensorflow.keras import layers"
   ]
  },
  {
   "cell_type": "code",
   "execution_count": 2,
   "metadata": {
    "scrolled": true
   },
   "outputs": [],
   "source": [
    "x_train = []\n",
    "y_trainFourths = []\n",
    "y_trainEighths = []\n",
    "with open('./Pi Code/test.csv') as data: \n",
    "    reader = csv.reader(data, delimiter = ',')\n",
    "    a = []\n",
    "    b = []\n",
    "    c = []\n",
    "    d = []\n",
    "    for row in data:\n",
    "        arr = np.zeros(shape = (4, 2500,1))\n",
    "        total = row.split(\",\")\n",
    "        for j in range(0, 2500):\n",
    "            arr[0][j] = total[j][2:len(total[j])-5]\n",
    "            arr[1][j] = total[j+2500][2:len(total[j])-5]\n",
    "            arr[2][j] = total[j+5000][2:len(total[j])-5]\n",
    "            arr[3][j] = total[j+7500][2:len(total[j])-5]\n",
    "        x_train.append(arr)\n",
    "        y_trainFourths.append(total[10001])\n",
    "        y_trainEighths.append(total[10002])\n",
    "        "
   ]
  },
  {
   "cell_type": "code",
   "execution_count": 3,
   "metadata": {},
   "outputs": [],
   "source": [
    "x_train = np.array(x_train)\n",
    "y_trainFourths = np.array(y_trainFourths)\n",
    "y_trainEighths = np.array(y_trainEighths)\n",
    "\n",
    "shuffle = np.arange(x_train.shape[0])\n",
    "np.random.shuffle(shuffle)\n",
    "\n",
    "x_train = x_train[shuffle]\n",
    "y_trainFourths = y_trainFourths[shuffle]\n",
    "y_trainEighths = y_trainEighths[shuffle]\n",
    "\n",
    "x_test = x_train[527:]\n",
    "x_train = x_train[:527]\n",
    "y_testFourths = y_trainFourths[527:]\n",
    "y_trainFourths = y_trainFourths[:527]\n",
    "y_testEighths = y_trainEighths[527:]\n",
    "y_trainEighths = y_trainEighths[:527]"
   ]
  },
  {
   "cell_type": "code",
   "execution_count": 4,
   "metadata": {},
   "outputs": [
    {
     "name": "stdout",
     "output_type": "stream",
     "text": [
      "(527, 4, 2500, 1)\n",
      "(527,)\n"
     ]
    }
   ],
   "source": [
    "print(x_train.shape)\n",
    "print(y_trainFourths.shape)"
   ]
  },
  {
   "cell_type": "code",
   "execution_count": 5,
   "metadata": {},
   "outputs": [],
   "source": [
    "model = tf.keras.Sequential([ \n",
    "        tf.keras.layers.Conv2D(32, (3,3), padding='same', activation=tf.nn.relu, input_shape=(4, 2500, 1)), \n",
    "        tf.keras.layers.MaxPooling2D((2, 2), strides=2),\n",
    "        tf.keras.layers.Conv2D(64, (3,3), padding='same', activation=tf.nn.relu), \n",
    "        tf.keras.layers.MaxPooling2D((2, 2), strides=2),\n",
    "        tf.keras.layers.Flatten(), \n",
    "        tf.keras.layers.Dense(128, activation=tf.nn.relu), \n",
    "        tf.keras.layers.Dense(4, activation=tf.nn.softmax) \n",
    "])\n",
    "\n",
    "#change shape of input to correct"
   ]
  },
  {
   "cell_type": "code",
   "execution_count": 6,
   "metadata": {},
   "outputs": [
    {
     "name": "stdout",
     "output_type": "stream",
     "text": [
      "Model: \"sequential\"\n",
      "_________________________________________________________________\n",
      "Layer (type)                 Output Shape              Param #   \n",
      "=================================================================\n",
      "conv2d (Conv2D)              (None, 4, 2500, 32)       320       \n",
      "_________________________________________________________________\n",
      "max_pooling2d (MaxPooling2D) (None, 2, 1250, 32)       0         \n",
      "_________________________________________________________________\n",
      "conv2d_1 (Conv2D)            (None, 2, 1250, 64)       18496     \n",
      "_________________________________________________________________\n",
      "max_pooling2d_1 (MaxPooling2 (None, 1, 625, 64)        0         \n",
      "_________________________________________________________________\n",
      "flatten (Flatten)            (None, 40000)             0         \n",
      "_________________________________________________________________\n",
      "dense (Dense)                (None, 128)               5120128   \n",
      "_________________________________________________________________\n",
      "dense_1 (Dense)              (None, 4)                 516       \n",
      "=================================================================\n",
      "Total params: 5,139,460\n",
      "Trainable params: 5,139,460\n",
      "Non-trainable params: 0\n",
      "_________________________________________________________________\n"
     ]
    }
   ],
   "source": [
    "model.compile(optimizer=tf.keras.optimizers.Adam(np.e),\n",
    "              loss='sparse_categorical_crossentropy',\n",
    "              metrics=['accuracy'])\n",
    "model.summary()"
   ]
  },
  {
   "cell_type": "code",
   "execution_count": null,
   "metadata": {},
   "outputs": [
    {
     "name": "stdout",
     "output_type": "stream",
     "text": [
      "Train on 527 samples, validate on 50 samples\n",
      "Epoch 1/200\n"
     ]
    }
   ],
   "source": [
    "history = model.fit(x_train, y_trainFourths, epochs=200, batch_size=25, validation_data=(x_test, y_testFourths))"
   ]
  },
  {
   "cell_type": "code",
   "execution_count": null,
   "metadata": {},
   "outputs": [],
   "source": [
    "loss = history.history['loss']\n",
    "plt.plot(loss)\n",
    "acc = history.history['accuracy']\n",
    "plt.plot(acc)\n",
    "val_acc = history.history['val_accuracy']\n",
    "plt.plot(val_acc)\n",
    "plt.ylim(0,5)"
   ]
  }
 ],
 "metadata": {
  "kernelspec": {
   "display_name": "Python 3",
   "language": "python",
   "name": "python3"
  },
  "language_info": {
   "codemirror_mode": {
    "name": "ipython",
    "version": 3
   },
   "file_extension": ".py",
   "mimetype": "text/x-python",
   "name": "python",
   "nbconvert_exporter": "python",
   "pygments_lexer": "ipython3",
   "version": "3.6.8"
  }
 },
 "nbformat": 4,
 "nbformat_minor": 4
}
